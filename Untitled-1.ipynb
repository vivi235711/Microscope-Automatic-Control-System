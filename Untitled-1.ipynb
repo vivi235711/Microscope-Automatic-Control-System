photos = os.listdir('E:\阿公台語歌單-2G')
for name in photos:
    print(name)