{
 "metadata": {
  "language_info": {
   "codemirror_mode": {
    "name": "ipython",
    "version": 3
   },
   "file_extension": ".py",
   "mimetype": "text/x-python",
   "name": "python",
   "nbconvert_exporter": "python",
   "pygments_lexer": "ipython3",
   "version": "3.7.9-final"
  },
  "orig_nbformat": 2,
  "kernelspec": {
   "name": "python3",
   "display_name": "Python 3",
   "language": "python"
  }
 },
 "nbformat": 4,
 "nbformat_minor": 2,
 "cells": [
  {
   "cell_type": "code",
   "execution_count": 1,
   "metadata": {},
   "outputs": [
    {
     "output_type": "stream",
     "name": "stdout",
     "text": [
      "importing Jupyter notebook from camera.ipynb\n"
     ]
    }
   ],
   "source": [
    "import import_ipynb\n",
    "import cv2\n",
    "import camera\n",
    "import numpy as np"
   ]
  },
  {
   "cell_type": "code",
   "execution_count": 2,
   "metadata": {},
   "outputs": [],
   "source": [
    "def findCircle(cap):\n",
    "    img = camera.camRead(cap)\n",
    "    #cv2.namedWindow('original', cv2.WINDOW_NORMAL)\n",
    "    #cv2.imshow('original',img)\n",
    "    img1 = preprocessing(img )    \n",
    "\n",
    "    #hough tranform\n",
    "    '''\n",
    "    cv2.HoughCircles(image, method, dp, minDist, circles=None, param1=None, param2=None, minRadius=None, maxRadius=None)\n",
    "    dp：累加器解析度與影象解析度的反比\n",
    "    minDist：檢測到的圓的中心，（x,y）座標之間的最小距離\n",
    "    param1：用於處理邊緣檢測的梯度值(canny)\n",
    "    param2：cv2.HOUGH_GRADIENT方法的累加器閾值。閾值越小，檢測到的圈子越多。\n",
    "\n",
    "    '''\n",
    "\n",
    "    circles= cv2.HoughCircles(img1 ,cv2.HOUGH_GRADIENT,1,15,param1=24,param2=20,minRadius=10,maxRadius=50)\n",
    "\n",
    "    shot = False\n",
    "    \n",
    "    if circles is None:\n",
    "        print('No ball.')\n",
    "    else:   \n",
    "        #print(circles)\n",
    "        for circle in circles[0]:\n",
    "            #position\n",
    "            x=int(circle[0])\n",
    "            y=int(circle[1])\n",
    "            #radius\n",
    "            r=int(circle[2])\n",
    "            #在原圖用指定顏色圈出圓，參數設定為int所以圈畫存在誤差\n",
    "            '''\n",
    "            img\t=\tcv.circle(\timg, center, radius, color[, thickness[, lineType[, shift]]]\t)\n",
    "\n",
    "            '''\n",
    "            img_c = cv2.circle(img,(x,y),r,(0,0,255),5,8,0)\n",
    "        cv2.namedWindow('circle', cv2.WINDOW_NORMAL)\n",
    "        cv2.imshow('circle',img_c)        \n",
    "        cv2.waitKey(1000)\n",
    "\n",
    "        if(tooclosed(circles)==False):\n",
    "            shot = True\n",
    "\n",
    "    \n",
    "    #cv2.destroyAllWindows()\n",
    "\n",
    "\n",
    "    return shot"
   ]
  },
  {
   "cell_type": "code",
   "execution_count": 3,
   "metadata": {},
   "outputs": [],
   "source": [
    "def preprocessing(img, debug = 1):    \n",
    "    \n",
    "    gray=cv2.cvtColor(img,cv2.COLOR_BGR2GRAY)\n",
    "    blur = cv2.blur(gray, (5,5)) \n",
    "    \n",
    "    if debug == 1 :\n",
    "        can = 24\n",
    "        canny = cv2.Canny(blur, 0.5*can, can)   \n",
    "        cv2.namedWindow('canny', cv2.WINDOW_NORMAL)\n",
    "        cv2.imshow('canny',canny)\n",
    "        cv2.waitKey(1000)\n",
    "    \n",
    "    return blur"
   ]
  },
  {
   "cell_type": "code",
   "execution_count": 10,
   "metadata": {},
   "outputs": [],
   "source": [
    "def tooclosed(circles):\n",
    "    num = circles.shape[1]\n",
    "    if  num == 1:\n",
    "        return False\n",
    "    else:\n",
    "        array = np.zeros(num, dtype=int)\n",
    "        for i in range(num):\n",
    "            if(array[i] == 0):\n",
    "                x1=(circles[0][i][0])\n",
    "                y1=(circles[0][i][1])\n",
    "                r1=(circles[0][i][2])\n",
    "                for j in range(num-i-1):\n",
    "                    x2=(circles[0][i+j+1][0])\n",
    "                    y2=(circles[0][i+j+1][1])\n",
    "                    r2=(circles[0][i+j+1][2])\n",
    "                    dist2 = (x2-x1)**2+(y2-y1)**2\n",
    "                    if(dist2< (r1+r2)**2*2):\n",
    "                        array[i] = 1\n",
    "                        array[i+j+1] = 1\n",
    "            if array[i] == 0:\n",
    "                return False\n",
    "\n",
    "    return True"
   ]
  },
  {
   "cell_type": "code",
   "execution_count": 11,
   "metadata": {},
   "outputs": [
    {
     "output_type": "stream",
     "name": "stdout",
     "text": [
      "False\n"
     ]
    }
   ],
   "source": [
    "if __name__ == '__main__':\n",
    "    path = 'C:/Users/user/macs/img/0111/38-1.jpg'\n",
    "    img =  cv2.imread(path)\n",
    "    cv2.namedWindow('original', cv2.WINDOW_NORMAL)\n",
    "    cv2.imshow('original',img)\n",
    "    img1 = preprocessing(img )    \n",
    "\n",
    "\n",
    "    circles= cv2.HoughCircles(img1 ,cv2.HOUGH_GRADIENT,1,15,param1=24,param2=20,minRadius=10,maxRadius=50)\n",
    "\n",
    "    shot = False\n",
    "\n",
    "    if circles is None:\n",
    "        print('No ball.')\n",
    "    else:   \n",
    "        #print(circles)\n",
    "        img_c = cv2.imread(path)\n",
    "        for circle in circles[0]:\n",
    "            #position\n",
    "            x=int(circle[0])\n",
    "            y=int(circle[1])\n",
    "            #radius\n",
    "            r=int(circle[2])\n",
    "            #在原圖用指定顏色圈出圓，參數設定為int所以圈畫存在誤差\n",
    "            '''\n",
    "            img\t=\tcv.circle(\timg, center, radius, color[, thickness[, lineType[, shift]]]\t)\n",
    "\n",
    "            '''\n",
    "            \n",
    "            img_c = cv2.circle(img_c,(x,y),r,(0,0,255),5,8,0)\n",
    "        cv2.namedWindow('circle', cv2.WINDOW_NORMAL)\n",
    "        cv2.imshow('circle',img_c)\n",
    "\n",
    "        \n",
    "\n",
    "        if(tooclosed(circles) == False):\n",
    "            shot = True\n",
    "\n",
    "    #按任意鍵退出\n",
    "    cv2.waitKey(0)\n",
    "    cv2.destroyAllWindows()\n",
    "\n",
    "\n",
    "    print(shot)"
   ]
  },
  {
   "cell_type": "code",
   "execution_count": null,
   "metadata": {},
   "outputs": [],
   "source": []
  }
 ]
}