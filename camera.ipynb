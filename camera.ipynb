{
 "metadata": {
  "language_info": {
   "codemirror_mode": {
    "name": "ipython",
    "version": 3
   },
   "file_extension": ".py",
   "mimetype": "text/x-python",
   "name": "python",
   "nbconvert_exporter": "python",
   "pygments_lexer": "ipython3",
   "version": "3.7.9-final"
  },
  "orig_nbformat": 2,
  "kernelspec": {
   "name": "Python 3.7.9 64-bit",
   "display_name": "Python 3.7.9 64-bit",
   "metadata": {
    "interpreter": {
     "hash": "4f452d6c66c79b479330df9f2bc786d7879f86649e809a8b61eae164f54b40b1"
    }
   }
  }
 },
 "nbformat": 4,
 "nbformat_minor": 2,
 "cells": [
  {
   "cell_type": "code",
   "execution_count": 1,
   "metadata": {},
   "outputs": [],
   "source": [
    "import cv2\n",
    "import time\n",
    "import import_ipynb\n",
    "import numpy as np"
   ]
  },
  {
   "cell_type": "code",
   "execution_count": 2,
   "metadata": {},
   "outputs": [],
   "source": [
    "#setup camera\n",
    "\n",
    "def openCam():\n",
    "\n",
    "    cap = cv2.VideoCapture(1)\n",
    "\n",
    "    if(cap.isOpened()):        \n",
    "        cap.set(cv2.CAP_PROP_FRAME_WIDTH, 1920)\n",
    "        cap.set(cv2.CAP_PROP_FRAME_HEIGHT, 1080)\n",
    "        return cap\n",
    "\n",
    "    else:\n",
    "        print('Camera connected failed.')\n",
    "        return False\n"
   ]
  },
  {
   "cell_type": "code",
   "execution_count": 3,
   "metadata": {},
   "outputs": [],
   "source": [
    "#capture\n",
    "\n",
    "def camRead(cap):\n",
    "\n",
    "    ret, img = cap.read()\n",
    "\n",
    "    if(ret):\n",
    "        if(camInactive(img)):\n",
    "            width, height, depth = img.shape\n",
    "            img = img[width//6:width//6*5,height//6:height//6*5]\n",
    "            #cv2.imshow('frame',img)\n",
    "            return img\n",
    "        else:\n",
    "            print('Camera is inactive.')\n",
    "            return False\n",
    "\n",
    "    else:\n",
    "        print('Camera disconnected.')\n",
    "        return False\n"
   ]
  },
  {
   "cell_type": "code",
   "execution_count": null,
   "metadata": {},
   "outputs": [],
   "source": [
    "#if camera inactive, send a cammand 'S' to wake up camera\n",
    "#待完成\n",
    "def camInactive(img):\n",
    "    #if camera is inactive, whole image will be dark\n",
    "    if(np.sum(img)==0):\n",
    "        return False\n",
    "    else:\n",
    "        return True\n"
   ]
  },
  {
   "cell_type": "code",
   "execution_count": 4,
   "metadata": {},
   "outputs": [],
   "source": [
    "#close\n",
    "\n",
    "def closeCam(cap):\n",
    "    \n",
    "    cv2.destroyAllWindows()\n",
    "    cap.release()"
   ]
  },
  {
   "cell_type": "code",
   "execution_count": 1,
   "metadata": {},
   "outputs": [],
   "source": [
    "def readImg(name):\n",
    "    path ='C:/Users/user/macs/img/'\n",
    "    img = cv2.imread(path+name)\n",
    "    return img"
   ]
  },
  {
   "cell_type": "code",
   "execution_count": null,
   "metadata": {},
   "outputs": [],
   "source": []
  }
 ]
}