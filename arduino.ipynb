{
 "metadata": {
  "language_info": {
   "codemirror_mode": {
    "name": "ipython",
    "version": 3
   },
   "file_extension": ".py",
   "mimetype": "text/x-python",
   "name": "python",
   "nbconvert_exporter": "python",
   "pygments_lexer": "ipython3",
   "version": "3.7.9-final"
  },
  "orig_nbformat": 2,
  "kernelspec": {
   "name": "python3",
   "display_name": "Python 3"
  }
 },
 "nbformat": 4,
 "nbformat_minor": 2,
 "cells": [
  {
   "cell_type": "code",
   "execution_count": 1,
   "metadata": {},
   "outputs": [],
   "source": [
    "import serial"
   ]
  },
  {
   "cell_type": "code",
   "execution_count": 2,
   "metadata": {},
   "outputs": [],
   "source": [
    "#setup serial\n",
    "\n",
    "def openSer():\n",
    "\n",
    "    try:\n",
    "        ser = serial.Serial('COM3',9600)\n",
    "\n",
    "    except:\n",
    "        print('Cannot connect serial port.')\n",
    "        return False\n",
    "\n",
    "    if(ser.is_open):\n",
    "        return ser\n",
    "    else:\n",
    "        print('Cannot open serial port.')\n",
    "        return False\n"
   ]
  },
  {
   "cell_type": "code",
   "execution_count": 3,
   "metadata": {},
   "outputs": [],
   "source": [
    "#send command\n",
    "\n",
    "def send(command, ser):\n",
    "\n",
    "    #Up Down Left Right Front Back Shot\n",
    "    ser.write(str.encode(command))\n",
    "\n",
    "    while True:\n",
    "        if(ser.in_waiting):          \n",
    "            data_raw = ser.read()  \n",
    "            data = data_raw.decode()  \n",
    "            if(data=='P'):\n",
    "                break\n",
    "            else:\n",
    "                print('Invalid command')\n",
    "            break\n",
    "\n",
    "    return True\n"
   ]
  },
  {
   "cell_type": "code",
   "execution_count": 4,
   "metadata": {},
   "outputs": [],
   "source": [
    "def closeSer(ser):\n",
    "    ser.close()"
   ]
  },
  {
   "cell_type": "code",
   "execution_count": null,
   "metadata": {},
   "outputs": [],
   "source": []
  }
 ]
}